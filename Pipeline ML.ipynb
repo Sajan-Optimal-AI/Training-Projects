{
 "cells": [
  {
   "cell_type": "code",
   "execution_count": 2,
   "metadata": {},
   "outputs": [
    {
     "name": "stdout",
     "output_type": "stream",
     "text": [
      "LogisticRegression Test Accuracy : 0.8421052631578947 \n",
      "DecisionTreeClassifier Test Accuracy : 0.8947368421052632 \n",
      "RandomForestClassifier Test Accuracy : 0.8947368421052632 \n",
      "Classifier with best accuracy : RandomForestClassifier\n",
      "Fitting 3 folds for each of 320 candidates, totalling 960 fits\n"
     ]
    },
    {
     "name": "stderr",
     "output_type": "stream",
     "text": [
      "[Parallel(n_jobs=-1)]: Using backend LokyBackend with 2 concurrent workers.\n",
      "[Parallel(n_jobs=-1)]: Done  37 tasks      | elapsed:   29.1s\n",
      "[Parallel(n_jobs=-1)]: Done 158 tasks      | elapsed:   45.4s\n",
      "[Parallel(n_jobs=-1)]: Done 361 tasks      | elapsed:  1.2min\n",
      "[Parallel(n_jobs=-1)]: Done 644 tasks      | elapsed:  1.7min\n",
      "[Parallel(n_jobs=-1)]: Done 960 out of 960 | elapsed:  2.2min finished\n"
     ]
    },
    {
     "name": "stdout",
     "output_type": "stream",
     "text": [
      "Accuracy: 0.95\n"
     ]
    }
   ],
   "source": [
    "import pandas as pd\n",
    "import numpy as np\n",
    "from sklearn.preprocessing import StandardScaler\n",
    "from sklearn.model_selection import train_test_split\n",
    "from sklearn.linear_model import LogisticRegression\n",
    "from sklearn.tree import DecisionTreeClassifier\n",
    "from sklearn.ensemble import RandomForestClassifier\n",
    "from sklearn.pipeline import Pipeline \n",
    "from sklearn.decomposition import PCA\n",
    "from sklearn.datasets import load_iris\n",
    "from sklearn.metrics import accuracy_score\n",
    "Data=load_iris()\n",
    "#print(Data.data,Data.target)\n",
    "#print(Data.feature_names,Data.target_names)\n",
    "X_train,X_test,y_train,y_test = train_test_split(Data.data,Data.target,test_size=0.25,random_state=0)\n",
    "# Create Pipeline essentials\n",
    "pipeline_LR =Pipeline([('Scaler1',StandardScaler()),('PCA1',PCA(n_components=2)),('LR',LogisticRegression(random_state=0))])\n",
    "pipeline_DTC =Pipeline([('Scaler2',StandardScaler()),('PCA2',PCA(n_components=2)),('DTC',DecisionTreeClassifier())])\n",
    "pipeline_RF=Pipeline([('Scaler3', StandardScaler()),('PCA3',PCA(n_components=2)),('RF',RandomForestClassifier())])\n",
    "pipelines=[pipeline_LR, pipeline_DTC, pipeline_RF]\n",
    "pipe_dict={0:'LogisticRegression',1:'DecisionTreeClassifier', 2:'RandomForestClassifier'}\n",
    "#Fit dataset'iris' to pipeline\n",
    "for pipe in pipelines:\n",
    "    pipe.fit(X_train,y_train)\n",
    "#Enumerate Test Accuracy for each model and print the results as statement\n",
    "for i,pipe in enumerate(pipelines):\n",
    "    print(\"{} Test Accuracy : {} \".format(pipe_dict[i],pipe.score(X_test,y_test)))\n",
    "# To verify which pipe is at best\n",
    "best_accuracy=0\n",
    "for i,pipe in enumerate(pipelines):\n",
    "    if pipe.score(X_test,y_test)>best_accuracy:\n",
    "        best_accuracy = pipe.score(X_test,y_test)\n",
    "        best_pipeline=pipe\n",
    "print(\"Classifier with best accuracy : {}\".format(pipe_dict[i]))\n",
    "#Perform hyperparameter tuning for the pipe - RandomForestClassifier    \n",
    "from sklearn.model_selection import GridSearchCV\n",
    "best_pipeline = RandomForestClassifier()\n",
    "#Defining the parameters\n",
    "n_estimators = [int(x) for x in np.linspace(10,200,10)]\n",
    "max_features = ['auto','sqrt']\n",
    "max_depth = [2,4]\n",
    "min_samples_split=[2,5]\n",
    "min_samples_leaf=[1,2]\n",
    "bootstrap = [True,False]\n",
    "#Create the paramgrid\n",
    "param_grid = {'n_estimators':n_estimators,\n",
    "             'max_features':max_features,\n",
    "             'max_depth':max_depth,\n",
    "             'min_samples_split':min_samples_split,\n",
    "             'min_samples_leaf':min_samples_leaf,\n",
    "             'bootstrap':bootstrap}\n",
    "Grid_RF = GridSearchCV(best_pipeline,param_grid=param_grid,cv=3,verbose=2,n_jobs=-1)\n",
    "Grid_RF.fit(X_train,y_train)\n",
    "y_pred=Grid_RF.predict(X_test)\n",
    "Grid_RF.best_params_\n",
    "print(\"Accuracy: %.2f\" % accuracy_score(y_test, y_pred))"
   ]
  }
 ],
 "metadata": {
  "kernelspec": {
   "display_name": "Python 3",
   "language": "python",
   "name": "python3"
  },
  "language_info": {
   "codemirror_mode": {
    "name": "ipython",
    "version": 3
   },
   "file_extension": ".py",
   "mimetype": "text/x-python",
   "name": "python",
   "nbconvert_exporter": "python",
   "pygments_lexer": "ipython3",
   "version": "3.8.5"
  }
 },
 "nbformat": 4,
 "nbformat_minor": 4
}
